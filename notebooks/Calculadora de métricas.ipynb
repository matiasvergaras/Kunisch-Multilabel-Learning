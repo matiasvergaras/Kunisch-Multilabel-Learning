{
 "cells": [
  {
   "cell_type": "markdown",
   "id": "7c1ba27a",
   "metadata": {},
   "source": [
    "# Aprendizaje Multietiqueta de Patrones Geométricos en Objetos de Herencia Cultural\n",
    "# Calculadora de métricas\n",
    "## Seminario de Tesis II, Primavera 2022\n",
    "### Master of Data Science. Universidad de Chile.\n",
    "#### Prof. guía: Benjamín Bustos - Prof. coguía: Iván Sipirán\n",
    "#### Autor: Matías Vergara\n",
    "\n",
    "Este notebook es totalmente auxiliar. Su objetivo es, dado un archivo de predicciones (matriz de ceros y unos), calcular métricas utilizando la clase KunischMetrics (utils.py) y guardar los resultados en un archivo de metadata.\n",
    "\n",
    "Algunos puntos a notar:\n",
    "- Actualmente, solo los métodos de C2AE, CNN-RNN y TDNN generan archivos de predicciones compatibles (extraer las predicciones desde scikit fue más complejo).\n",
    "- Los notebooks correspondientes a dichos métodos crean el archivo metadata.csv por sí solos, por lo cual no es necesario ejecutar este notebook.\n",
    "- Sin embargo, este notebook sí resulta muy útil cuando se agrega una nueva métrica a KunischMetrics y se quiere aplicar dicha métrica a todos los resultados previos sin volver a calcularlos."
   ]
  },
  {
   "cell_type": "markdown",
   "id": "b9dd2b25",
   "metadata": {},
   "source": [
    "## Imports"
   ]
  },
  {
   "cell_type": "code",
   "execution_count": 1,
   "id": "8c811e10",
   "metadata": {},
   "outputs": [],
   "source": [
    "import os\n",
    "import pickle\n",
    "import numpy as np\n",
    "import pandas as pd\n",
    "import random\n",
    "import matplotlib.pyplot as plt\n",
    "\n",
    "from PIL import Image\n",
    "import math\n",
    "from sklearn.metrics import accuracy_score,hamming_loss, accuracy_score, f1_score, precision_score, recall_score\n",
    "\n",
    "%matplotlib inline\n",
    "from matplotlib import pyplot as plt\n",
    "import seaborn as sns\n",
    "\n",
    "from sklearn.metrics import multilabel_confusion_matrix, ConfusionMatrixDisplay\n",
    "from sklearn.metrics import classification_report\n",
    "\n",
    "from textwrap import wrap\n",
    "\n",
    "\n",
    "from utils import KunischMetrics\n",
    "from utils import KunischPruner\n",
    "from utils import DataExplorer\n",
    "from utils import KunischPlotter"
   ]
  },
  {
   "cell_type": "markdown",
   "id": "5ad61def",
   "metadata": {},
   "source": [
    "## Configuración de archivos a leer"
   ]
  },
  {
   "cell_type": "code",
   "execution_count": 3,
   "id": "d90bf5e2",
   "metadata": {},
   "outputs": [],
   "source": [
    "# Para qué experimentos se desea leer los archivos\n",
    "output_dir = os.path.join('..', 'outputs', 'cnn-rnn')\n",
    "K = 4\n",
    "experimentos = ['base',  'crop1',  'blur_rain_ref_rot_crop1_randaug1_elastic1']\n",
    "apellidos = ['_weighted_1']\n",
    "\n",
    "# Para qué cantidades de etiquetas se desea leer los archivos\n",
    "nlabels = [5, 14, 26, 34, 54, 63, 72, 82, 91, 107, 131, 169, 281]\n",
    "\n",
    "# Ir a buscar top_labels para kunischMetrics\n",
    "labels_dir = os.path.join('..', 'labels')\n",
    "dic_toplabels = {}\n",
    "for labels in nlabels: \n",
    "    with open(os.path.join(labels_dir, f'top_{labels}L.pickle'), 'rb') as f:\n",
    "        dic_toplabels[labels] = pickle.load(f)\n",
    "#dic_toplabels"
   ]
  },
  {
   "cell_type": "markdown",
   "id": "b3c606e8",
   "metadata": {},
   "source": [
    "## Calculo y guardado de scores"
   ]
  },
  {
   "cell_type": "code",
   "execution_count": 10,
   "id": "a3c9c0c3",
   "metadata": {},
   "outputs": [
    {
     "name": "stdout",
     "output_type": "stream",
     "text": [
      "..\\outputs\\cnn-rnn\\base\\5L_weighted_1\\metadata.csv\n",
      "..\\outputs\\cnn-rnn\\base\\5L_weighted_1\\0\n",
      "..\\outputs\\cnn-rnn\\base\\5L_weighted_1\\1\n",
      "..\\outputs\\cnn-rnn\\base\\5L_weighted_1\\2\n",
      "..\\outputs\\cnn-rnn\\base\\5L_weighted_1\\3\n",
      "..\\outputs\\cnn-rnn\\crop1\\5L_weighted_1\\metadata.csv\n",
      "..\\outputs\\cnn-rnn\\crop1\\5L_weighted_1\\0\n",
      "..\\outputs\\cnn-rnn\\crop1\\5L_weighted_1\\1\n",
      "..\\outputs\\cnn-rnn\\crop1\\5L_weighted_1\\2\n",
      "..\\outputs\\cnn-rnn\\crop1\\5L_weighted_1\\3\n",
      "..\\outputs\\cnn-rnn\\blur_rain_ref_rot_crop1_randaug1_elastic1\\5L_weighted_1\\metadata.csv\n",
      "..\\outputs\\cnn-rnn\\blur_rain_ref_rot_crop1_randaug1_elastic1\\5L_weighted_1\\0\n",
      "..\\outputs\\cnn-rnn\\blur_rain_ref_rot_crop1_randaug1_elastic1\\5L_weighted_1\\1\n"
     ]
    },
    {
     "name": "stderr",
     "output_type": "stream",
     "text": [
      "D:\\Programas\\Anaconda3\\envs\\TesisMV\\lib\\site-packages\\sklearn\\metrics\\_classification.py:1334: UndefinedMetricWarning: Precision is ill-defined and being set to 0.0 due to no predicted samples. Use `zero_division` parameter to control this behavior.\n",
      "  _warn_prf(average, modifier, msg_start, len(result))\n",
      "D:\\Programas\\Anaconda3\\envs\\TesisMV\\lib\\site-packages\\sklearn\\metrics\\_classification.py:1334: UndefinedMetricWarning: Precision is ill-defined and being set to 0.0 due to no predicted samples. Use `zero_division` parameter to control this behavior.\n",
      "  _warn_prf(average, modifier, msg_start, len(result))\n"
     ]
    },
    {
     "name": "stdout",
     "output_type": "stream",
     "text": [
      "..\\outputs\\cnn-rnn\\blur_rain_ref_rot_crop1_randaug1_elastic1\\5L_weighted_1\\2\n",
      "..\\outputs\\cnn-rnn\\blur_rain_ref_rot_crop1_randaug1_elastic1\\5L_weighted_1\\3\n",
      "..\\outputs\\cnn-rnn\\base\\14L_weighted_1\\metadata.csv\n",
      "..\\outputs\\cnn-rnn\\base\\14L_weighted_1\\0\n"
     ]
    },
    {
     "name": "stderr",
     "output_type": "stream",
     "text": [
      "D:\\Programas\\Anaconda3\\envs\\TesisMV\\lib\\site-packages\\sklearn\\metrics\\_classification.py:1334: UndefinedMetricWarning: Precision is ill-defined and being set to 0.0 due to no predicted samples. Use `zero_division` parameter to control this behavior.\n",
      "  _warn_prf(average, modifier, msg_start, len(result))\n",
      "D:\\Programas\\Anaconda3\\envs\\TesisMV\\lib\\site-packages\\sklearn\\metrics\\_classification.py:1334: UndefinedMetricWarning: Precision is ill-defined and being set to 0.0 due to no predicted samples. Use `zero_division` parameter to control this behavior.\n",
      "  _warn_prf(average, modifier, msg_start, len(result))\n"
     ]
    },
    {
     "name": "stdout",
     "output_type": "stream",
     "text": [
      "..\\outputs\\cnn-rnn\\base\\14L_weighted_1\\1\n",
      "..\\outputs\\cnn-rnn\\base\\14L_weighted_1\\2\n",
      "..\\outputs\\cnn-rnn\\base\\14L_weighted_1\\3\n",
      "..\\outputs\\cnn-rnn\\crop1\\14L_weighted_1\\metadata.csv\n",
      "..\\outputs\\cnn-rnn\\crop1\\14L_weighted_1\\0\n",
      "..\\outputs\\cnn-rnn\\crop1\\14L_weighted_1\\1\n",
      "..\\outputs\\cnn-rnn\\crop1\\14L_weighted_1\\2\n",
      "..\\outputs\\cnn-rnn\\crop1\\14L_weighted_1\\3\n",
      "..\\outputs\\cnn-rnn\\blur_rain_ref_rot_crop1_randaug1_elastic1\\14L_weighted_1\\metadata.csv\n",
      "..\\outputs\\cnn-rnn\\blur_rain_ref_rot_crop1_randaug1_elastic1\\14L_weighted_1\\0\n",
      "..\\outputs\\cnn-rnn\\blur_rain_ref_rot_crop1_randaug1_elastic1\\14L_weighted_1\\1\n",
      "..\\outputs\\cnn-rnn\\blur_rain_ref_rot_crop1_randaug1_elastic1\\14L_weighted_1\\2\n"
     ]
    },
    {
     "name": "stderr",
     "output_type": "stream",
     "text": [
      "D:\\Programas\\Anaconda3\\envs\\TesisMV\\lib\\site-packages\\sklearn\\metrics\\_classification.py:1334: UndefinedMetricWarning: Precision is ill-defined and being set to 0.0 due to no predicted samples. Use `zero_division` parameter to control this behavior.\n",
      "  _warn_prf(average, modifier, msg_start, len(result))\n",
      "D:\\Programas\\Anaconda3\\envs\\TesisMV\\lib\\site-packages\\sklearn\\metrics\\_classification.py:1334: UndefinedMetricWarning: Precision is ill-defined and being set to 0.0 due to no predicted samples. Use `zero_division` parameter to control this behavior.\n",
      "  _warn_prf(average, modifier, msg_start, len(result))\n",
      "D:\\Programas\\Anaconda3\\envs\\TesisMV\\lib\\site-packages\\sklearn\\metrics\\_classification.py:1334: UndefinedMetricWarning: Precision is ill-defined and being set to 0.0 due to no predicted samples. Use `zero_division` parameter to control this behavior.\n",
      "  _warn_prf(average, modifier, msg_start, len(result))\n",
      "D:\\Programas\\Anaconda3\\envs\\TesisMV\\lib\\site-packages\\sklearn\\metrics\\_classification.py:1334: UndefinedMetricWarning: Precision is ill-defined and being set to 0.0 due to no predicted samples. Use `zero_division` parameter to control this behavior.\n",
      "  _warn_prf(average, modifier, msg_start, len(result))\n"
     ]
    },
    {
     "name": "stdout",
     "output_type": "stream",
     "text": [
      "..\\outputs\\cnn-rnn\\blur_rain_ref_rot_crop1_randaug1_elastic1\\14L_weighted_1\\3\n",
      "..\\outputs\\cnn-rnn\\base\\26L_weighted_1\\metadata.csv\n",
      "..\\outputs\\cnn-rnn\\base\\26L_weighted_1\\0\n",
      "..\\outputs\\cnn-rnn\\base\\26L_weighted_1\\1\n",
      "..\\outputs\\cnn-rnn\\base\\26L_weighted_1\\2\n",
      "..\\outputs\\cnn-rnn\\base\\26L_weighted_1\\3\n",
      "..\\outputs\\cnn-rnn\\crop1\\26L_weighted_1\\metadata.csv\n",
      "..\\outputs\\cnn-rnn\\crop1\\26L_weighted_1\\0\n",
      "..\\outputs\\cnn-rnn\\crop1\\26L_weighted_1\\1\n",
      "..\\outputs\\cnn-rnn\\crop1\\26L_weighted_1\\2\n",
      "..\\outputs\\cnn-rnn\\crop1\\26L_weighted_1\\3\n",
      "..\\outputs\\cnn-rnn\\blur_rain_ref_rot_crop1_randaug1_elastic1\\26L_weighted_1\\metadata.csv\n",
      "..\\outputs\\cnn-rnn\\blur_rain_ref_rot_crop1_randaug1_elastic1\\26L_weighted_1\\0\n",
      "..\\outputs\\cnn-rnn\\blur_rain_ref_rot_crop1_randaug1_elastic1\\26L_weighted_1\\1\n"
     ]
    },
    {
     "name": "stderr",
     "output_type": "stream",
     "text": [
      "D:\\Programas\\Anaconda3\\envs\\TesisMV\\lib\\site-packages\\sklearn\\metrics\\_classification.py:1334: UndefinedMetricWarning: Precision is ill-defined and being set to 0.0 due to no predicted samples. Use `zero_division` parameter to control this behavior.\n",
      "  _warn_prf(average, modifier, msg_start, len(result))\n",
      "D:\\Programas\\Anaconda3\\envs\\TesisMV\\lib\\site-packages\\sklearn\\metrics\\_classification.py:1334: UndefinedMetricWarning: Precision is ill-defined and being set to 0.0 due to no predicted samples. Use `zero_division` parameter to control this behavior.\n",
      "  _warn_prf(average, modifier, msg_start, len(result))\n"
     ]
    },
    {
     "name": "stdout",
     "output_type": "stream",
     "text": [
      "..\\outputs\\cnn-rnn\\blur_rain_ref_rot_crop1_randaug1_elastic1\\26L_weighted_1\\2\n",
      "..\\outputs\\cnn-rnn\\blur_rain_ref_rot_crop1_randaug1_elastic1\\26L_weighted_1\\3\n",
      "..\\outputs\\cnn-rnn\\base\\34L_weighted_1\\metadata.csv\n",
      "..\\outputs\\cnn-rnn\\base\\34L_weighted_1\\0\n"
     ]
    },
    {
     "name": "stderr",
     "output_type": "stream",
     "text": [
      "D:\\Programas\\Anaconda3\\envs\\TesisMV\\lib\\site-packages\\sklearn\\metrics\\_classification.py:1334: UndefinedMetricWarning: Precision is ill-defined and being set to 0.0 due to no predicted samples. Use `zero_division` parameter to control this behavior.\n",
      "  _warn_prf(average, modifier, msg_start, len(result))\n"
     ]
    },
    {
     "name": "stdout",
     "output_type": "stream",
     "text": [
      "..\\outputs\\cnn-rnn\\base\\34L_weighted_1\\1\n",
      "..\\outputs\\cnn-rnn\\base\\34L_weighted_1\\2\n",
      "..\\outputs\\cnn-rnn\\base\\34L_weighted_1\\3\n",
      "..\\outputs\\cnn-rnn\\crop1\\34L_weighted_1\\metadata.csv\n",
      "..\\outputs\\cnn-rnn\\crop1\\34L_weighted_1\\0\n",
      "..\\outputs\\cnn-rnn\\crop1\\34L_weighted_1\\1\n",
      "..\\outputs\\cnn-rnn\\crop1\\34L_weighted_1\\2\n",
      "..\\outputs\\cnn-rnn\\crop1\\34L_weighted_1\\3\n",
      "..\\outputs\\cnn-rnn\\blur_rain_ref_rot_crop1_randaug1_elastic1\\34L_weighted_1\\metadata.csv\n",
      "..\\outputs\\cnn-rnn\\blur_rain_ref_rot_crop1_randaug1_elastic1\\34L_weighted_1\\0\n"
     ]
    },
    {
     "name": "stderr",
     "output_type": "stream",
     "text": [
      "D:\\Programas\\Anaconda3\\envs\\TesisMV\\lib\\site-packages\\sklearn\\metrics\\_classification.py:1334: UndefinedMetricWarning: Precision is ill-defined and being set to 0.0 due to no predicted samples. Use `zero_division` parameter to control this behavior.\n",
      "  _warn_prf(average, modifier, msg_start, len(result))\n",
      "D:\\Programas\\Anaconda3\\envs\\TesisMV\\lib\\site-packages\\sklearn\\metrics\\_classification.py:1334: UndefinedMetricWarning: Precision is ill-defined and being set to 0.0 due to no predicted samples. Use `zero_division` parameter to control this behavior.\n",
      "  _warn_prf(average, modifier, msg_start, len(result))\n",
      "D:\\Programas\\Anaconda3\\envs\\TesisMV\\lib\\site-packages\\sklearn\\metrics\\_classification.py:1334: UndefinedMetricWarning: Precision is ill-defined and being set to 0.0 due to no predicted samples. Use `zero_division` parameter to control this behavior.\n",
      "  _warn_prf(average, modifier, msg_start, len(result))\n"
     ]
    },
    {
     "name": "stdout",
     "output_type": "stream",
     "text": [
      "..\\outputs\\cnn-rnn\\blur_rain_ref_rot_crop1_randaug1_elastic1\\34L_weighted_1\\1\n",
      "..\\outputs\\cnn-rnn\\blur_rain_ref_rot_crop1_randaug1_elastic1\\34L_weighted_1\\2\n",
      "..\\outputs\\cnn-rnn\\blur_rain_ref_rot_crop1_randaug1_elastic1\\34L_weighted_1\\3\n"
     ]
    },
    {
     "name": "stderr",
     "output_type": "stream",
     "text": [
      "D:\\Programas\\Anaconda3\\envs\\TesisMV\\lib\\site-packages\\sklearn\\metrics\\_classification.py:1334: UndefinedMetricWarning: Precision is ill-defined and being set to 0.0 due to no predicted samples. Use `zero_division` parameter to control this behavior.\n",
      "  _warn_prf(average, modifier, msg_start, len(result))\n"
     ]
    },
    {
     "name": "stdout",
     "output_type": "stream",
     "text": [
      "..\\outputs\\cnn-rnn\\base\\54L_weighted_1\\metadata.csv\n",
      "..\\outputs\\cnn-rnn\\base\\54L_weighted_1\\0\n",
      "..\\outputs\\cnn-rnn\\base\\54L_weighted_1\\1\n",
      "..\\outputs\\cnn-rnn\\base\\54L_weighted_1\\2\n",
      "..\\outputs\\cnn-rnn\\base\\54L_weighted_1\\3\n",
      "..\\outputs\\cnn-rnn\\crop1\\54L_weighted_1\\metadata.csv\n",
      "..\\outputs\\cnn-rnn\\crop1\\54L_weighted_1\\0\n",
      "..\\outputs\\cnn-rnn\\crop1\\54L_weighted_1\\1\n",
      "..\\outputs\\cnn-rnn\\crop1\\54L_weighted_1\\2\n",
      "..\\outputs\\cnn-rnn\\crop1\\54L_weighted_1\\3\n",
      "..\\outputs\\cnn-rnn\\blur_rain_ref_rot_crop1_randaug1_elastic1\\54L_weighted_1\\metadata.csv\n",
      "..\\outputs\\cnn-rnn\\blur_rain_ref_rot_crop1_randaug1_elastic1\\54L_weighted_1\\0\n",
      "..\\outputs\\cnn-rnn\\blur_rain_ref_rot_crop1_randaug1_elastic1\\54L_weighted_1\\1\n",
      "..\\outputs\\cnn-rnn\\blur_rain_ref_rot_crop1_randaug1_elastic1\\54L_weighted_1\\2\n",
      "..\\outputs\\cnn-rnn\\blur_rain_ref_rot_crop1_randaug1_elastic1\\54L_weighted_1\\3\n",
      "..\\outputs\\cnn-rnn\\base\\63L_weighted_1\\metadata.csv\n"
     ]
    },
    {
     "name": "stderr",
     "output_type": "stream",
     "text": [
      "D:\\Programas\\Anaconda3\\envs\\TesisMV\\lib\\site-packages\\sklearn\\metrics\\_classification.py:1334: UndefinedMetricWarning: Precision is ill-defined and being set to 0.0 due to no predicted samples. Use `zero_division` parameter to control this behavior.\n",
      "  _warn_prf(average, modifier, msg_start, len(result))\n",
      "D:\\Programas\\Anaconda3\\envs\\TesisMV\\lib\\site-packages\\sklearn\\metrics\\_classification.py:1334: UndefinedMetricWarning: Precision is ill-defined and being set to 0.0 due to no predicted samples. Use `zero_division` parameter to control this behavior.\n",
      "  _warn_prf(average, modifier, msg_start, len(result))\n"
     ]
    },
    {
     "name": "stdout",
     "output_type": "stream",
     "text": [
      "..\\outputs\\cnn-rnn\\base\\63L_weighted_1\\0\n",
      "..\\outputs\\cnn-rnn\\base\\63L_weighted_1\\1\n",
      "..\\outputs\\cnn-rnn\\base\\63L_weighted_1\\2\n",
      "..\\outputs\\cnn-rnn\\base\\63L_weighted_1\\3\n",
      "..\\outputs\\cnn-rnn\\crop1\\63L_weighted_1\\metadata.csv\n",
      "..\\outputs\\cnn-rnn\\crop1\\63L_weighted_1\\0\n",
      "..\\outputs\\cnn-rnn\\crop1\\63L_weighted_1\\1\n",
      "..\\outputs\\cnn-rnn\\crop1\\63L_weighted_1\\2\n",
      "..\\outputs\\cnn-rnn\\crop1\\63L_weighted_1\\3\n",
      "..\\outputs\\cnn-rnn\\blur_rain_ref_rot_crop1_randaug1_elastic1\\63L_weighted_1\\metadata.csv\n",
      "..\\outputs\\cnn-rnn\\blur_rain_ref_rot_crop1_randaug1_elastic1\\63L_weighted_1\\0\n",
      "..\\outputs\\cnn-rnn\\blur_rain_ref_rot_crop1_randaug1_elastic1\\63L_weighted_1\\1\n"
     ]
    },
    {
     "name": "stderr",
     "output_type": "stream",
     "text": [
      "D:\\Programas\\Anaconda3\\envs\\TesisMV\\lib\\site-packages\\sklearn\\metrics\\_classification.py:1334: UndefinedMetricWarning: Precision is ill-defined and being set to 0.0 due to no predicted samples. Use `zero_division` parameter to control this behavior.\n",
      "  _warn_prf(average, modifier, msg_start, len(result))\n",
      "D:\\Programas\\Anaconda3\\envs\\TesisMV\\lib\\site-packages\\sklearn\\metrics\\_classification.py:1334: UndefinedMetricWarning: Precision is ill-defined and being set to 0.0 due to no predicted samples. Use `zero_division` parameter to control this behavior.\n",
      "  _warn_prf(average, modifier, msg_start, len(result))\n",
      "D:\\Programas\\Anaconda3\\envs\\TesisMV\\lib\\site-packages\\sklearn\\metrics\\_classification.py:1334: UndefinedMetricWarning: Precision is ill-defined and being set to 0.0 due to no predicted samples. Use `zero_division` parameter to control this behavior.\n",
      "  _warn_prf(average, modifier, msg_start, len(result))\n"
     ]
    },
    {
     "name": "stdout",
     "output_type": "stream",
     "text": [
      "..\\outputs\\cnn-rnn\\blur_rain_ref_rot_crop1_randaug1_elastic1\\63L_weighted_1\\2\n",
      "..\\outputs\\cnn-rnn\\blur_rain_ref_rot_crop1_randaug1_elastic1\\63L_weighted_1\\3\n",
      "..\\outputs\\cnn-rnn\\base\\72L_weighted_1\\metadata.csv\n",
      "..\\outputs\\cnn-rnn\\base\\72L_weighted_1\\0\n"
     ]
    },
    {
     "name": "stderr",
     "output_type": "stream",
     "text": [
      "D:\\Programas\\Anaconda3\\envs\\TesisMV\\lib\\site-packages\\sklearn\\metrics\\_classification.py:1334: UndefinedMetricWarning: Precision is ill-defined and being set to 0.0 due to no predicted samples. Use `zero_division` parameter to control this behavior.\n",
      "  _warn_prf(average, modifier, msg_start, len(result))\n"
     ]
    },
    {
     "name": "stdout",
     "output_type": "stream",
     "text": [
      "..\\outputs\\cnn-rnn\\base\\72L_weighted_1\\1\n",
      "..\\outputs\\cnn-rnn\\base\\72L_weighted_1\\2\n",
      "..\\outputs\\cnn-rnn\\base\\72L_weighted_1\\3\n",
      "..\\outputs\\cnn-rnn\\crop1\\72L_weighted_1\\metadata.csv\n",
      "..\\outputs\\cnn-rnn\\crop1\\72L_weighted_1\\0\n",
      "..\\outputs\\cnn-rnn\\crop1\\72L_weighted_1\\1\n",
      "..\\outputs\\cnn-rnn\\crop1\\72L_weighted_1\\2\n",
      "..\\outputs\\cnn-rnn\\crop1\\72L_weighted_1\\3\n",
      "..\\outputs\\cnn-rnn\\blur_rain_ref_rot_crop1_randaug1_elastic1\\72L_weighted_1\\metadata.csv\n",
      "..\\outputs\\cnn-rnn\\blur_rain_ref_rot_crop1_randaug1_elastic1\\72L_weighted_1\\0\n",
      "..\\outputs\\cnn-rnn\\blur_rain_ref_rot_crop1_randaug1_elastic1\\72L_weighted_1\\1\n",
      "..\\outputs\\cnn-rnn\\blur_rain_ref_rot_crop1_randaug1_elastic1\\72L_weighted_1\\2\n"
     ]
    },
    {
     "name": "stderr",
     "output_type": "stream",
     "text": [
      "D:\\Programas\\Anaconda3\\envs\\TesisMV\\lib\\site-packages\\sklearn\\metrics\\_classification.py:1334: UndefinedMetricWarning: Precision is ill-defined and being set to 0.0 due to no predicted samples. Use `zero_division` parameter to control this behavior.\n",
      "  _warn_prf(average, modifier, msg_start, len(result))\n",
      "D:\\Programas\\Anaconda3\\envs\\TesisMV\\lib\\site-packages\\sklearn\\metrics\\_classification.py:1334: UndefinedMetricWarning: Precision is ill-defined and being set to 0.0 due to no predicted samples. Use `zero_division` parameter to control this behavior.\n",
      "  _warn_prf(average, modifier, msg_start, len(result))\n",
      "D:\\Programas\\Anaconda3\\envs\\TesisMV\\lib\\site-packages\\sklearn\\metrics\\_classification.py:1334: UndefinedMetricWarning: Precision is ill-defined and being set to 0.0 due to no predicted samples. Use `zero_division` parameter to control this behavior.\n",
      "  _warn_prf(average, modifier, msg_start, len(result))\n"
     ]
    },
    {
     "name": "stdout",
     "output_type": "stream",
     "text": [
      "..\\outputs\\cnn-rnn\\blur_rain_ref_rot_crop1_randaug1_elastic1\\72L_weighted_1\\3\n",
      "..\\outputs\\cnn-rnn\\base\\82L_weighted_1\\metadata.csv\n",
      "..\\outputs\\cnn-rnn\\base\\82L_weighted_1\\0\n",
      "..\\outputs\\cnn-rnn\\base\\82L_weighted_1\\1\n",
      "..\\outputs\\cnn-rnn\\base\\82L_weighted_1\\2\n",
      "..\\outputs\\cnn-rnn\\base\\82L_weighted_1\\3\n",
      "..\\outputs\\cnn-rnn\\crop1\\82L_weighted_1\\metadata.csv\n",
      "..\\outputs\\cnn-rnn\\crop1\\82L_weighted_1\\0\n",
      "..\\outputs\\cnn-rnn\\crop1\\82L_weighted_1\\1\n",
      "..\\outputs\\cnn-rnn\\crop1\\82L_weighted_1\\2\n",
      "..\\outputs\\cnn-rnn\\crop1\\82L_weighted_1\\3\n",
      "..\\outputs\\cnn-rnn\\blur_rain_ref_rot_crop1_randaug1_elastic1\\82L_weighted_1\\metadata.csv\n",
      "..\\outputs\\cnn-rnn\\blur_rain_ref_rot_crop1_randaug1_elastic1\\82L_weighted_1\\0\n",
      "..\\outputs\\cnn-rnn\\blur_rain_ref_rot_crop1_randaug1_elastic1\\82L_weighted_1\\1\n"
     ]
    },
    {
     "name": "stderr",
     "output_type": "stream",
     "text": [
      "D:\\Programas\\Anaconda3\\envs\\TesisMV\\lib\\site-packages\\sklearn\\metrics\\_classification.py:1334: UndefinedMetricWarning: Precision is ill-defined and being set to 0.0 due to no predicted samples. Use `zero_division` parameter to control this behavior.\n",
      "  _warn_prf(average, modifier, msg_start, len(result))\n"
     ]
    },
    {
     "name": "stdout",
     "output_type": "stream",
     "text": [
      "..\\outputs\\cnn-rnn\\blur_rain_ref_rot_crop1_randaug1_elastic1\\82L_weighted_1\\2\n",
      "..\\outputs\\cnn-rnn\\blur_rain_ref_rot_crop1_randaug1_elastic1\\82L_weighted_1\\3\n",
      "..\\outputs\\cnn-rnn\\base\\91L_weighted_1\\metadata.csv\n",
      "..\\outputs\\cnn-rnn\\base\\91L_weighted_1\\0\n",
      "..\\outputs\\cnn-rnn\\base\\91L_weighted_1\\1\n",
      "..\\outputs\\cnn-rnn\\base\\91L_weighted_1\\2\n",
      "..\\outputs\\cnn-rnn\\base\\91L_weighted_1\\3\n",
      "..\\outputs\\cnn-rnn\\crop1\\91L_weighted_1\\metadata.csv\n",
      "..\\outputs\\cnn-rnn\\crop1\\91L_weighted_1\\0\n",
      "..\\outputs\\cnn-rnn\\crop1\\91L_weighted_1\\1\n",
      "..\\outputs\\cnn-rnn\\crop1\\91L_weighted_1\\2\n",
      "..\\outputs\\cnn-rnn\\crop1\\91L_weighted_1\\3\n",
      "..\\outputs\\cnn-rnn\\blur_rain_ref_rot_crop1_randaug1_elastic1\\91L_weighted_1\\metadata.csv\n",
      "..\\outputs\\cnn-rnn\\blur_rain_ref_rot_crop1_randaug1_elastic1\\91L_weighted_1\\0\n"
     ]
    },
    {
     "name": "stderr",
     "output_type": "stream",
     "text": [
      "D:\\Programas\\Anaconda3\\envs\\TesisMV\\lib\\site-packages\\sklearn\\metrics\\_classification.py:1334: UndefinedMetricWarning: Precision is ill-defined and being set to 0.0 due to no predicted samples. Use `zero_division` parameter to control this behavior.\n",
      "  _warn_prf(average, modifier, msg_start, len(result))\n",
      "D:\\Programas\\Anaconda3\\envs\\TesisMV\\lib\\site-packages\\sklearn\\metrics\\_classification.py:1334: UndefinedMetricWarning: Precision is ill-defined and being set to 0.0 due to no predicted samples. Use `zero_division` parameter to control this behavior.\n",
      "  _warn_prf(average, modifier, msg_start, len(result))\n"
     ]
    },
    {
     "name": "stdout",
     "output_type": "stream",
     "text": [
      "..\\outputs\\cnn-rnn\\blur_rain_ref_rot_crop1_randaug1_elastic1\\91L_weighted_1\\1\n",
      "..\\outputs\\cnn-rnn\\blur_rain_ref_rot_crop1_randaug1_elastic1\\91L_weighted_1\\2\n",
      "..\\outputs\\cnn-rnn\\blur_rain_ref_rot_crop1_randaug1_elastic1\\91L_weighted_1\\3\n",
      "..\\outputs\\cnn-rnn\\base\\107L_weighted_1\\metadata.csv\n",
      "..\\outputs\\cnn-rnn\\base\\107L_weighted_1\\0\n"
     ]
    },
    {
     "name": "stderr",
     "output_type": "stream",
     "text": [
      "D:\\Programas\\Anaconda3\\envs\\TesisMV\\lib\\site-packages\\sklearn\\metrics\\_classification.py:1334: UndefinedMetricWarning: Precision is ill-defined and being set to 0.0 due to no predicted samples. Use `zero_division` parameter to control this behavior.\n",
      "  _warn_prf(average, modifier, msg_start, len(result))\n"
     ]
    },
    {
     "name": "stdout",
     "output_type": "stream",
     "text": [
      "..\\outputs\\cnn-rnn\\base\\107L_weighted_1\\1\n",
      "..\\outputs\\cnn-rnn\\base\\107L_weighted_1\\2\n",
      "..\\outputs\\cnn-rnn\\base\\107L_weighted_1\\3\n",
      "..\\outputs\\cnn-rnn\\crop1\\107L_weighted_1\\metadata.csv\n",
      "..\\outputs\\cnn-rnn\\crop1\\107L_weighted_1\\0\n",
      "..\\outputs\\cnn-rnn\\crop1\\107L_weighted_1\\1\n",
      "..\\outputs\\cnn-rnn\\crop1\\107L_weighted_1\\2\n",
      "..\\outputs\\cnn-rnn\\crop1\\107L_weighted_1\\3\n",
      "..\\outputs\\cnn-rnn\\blur_rain_ref_rot_crop1_randaug1_elastic1\\107L_weighted_1\\metadata.csv\n",
      "..\\outputs\\cnn-rnn\\blur_rain_ref_rot_crop1_randaug1_elastic1\\107L_weighted_1\\0\n",
      "..\\outputs\\cnn-rnn\\blur_rain_ref_rot_crop1_randaug1_elastic1\\107L_weighted_1\\1\n",
      "..\\outputs\\cnn-rnn\\blur_rain_ref_rot_crop1_randaug1_elastic1\\107L_weighted_1\\2\n",
      "..\\outputs\\cnn-rnn\\blur_rain_ref_rot_crop1_randaug1_elastic1\\107L_weighted_1\\3\n",
      "..\\outputs\\cnn-rnn\\base\\131L_weighted_1\\metadata.csv\n",
      "..\\outputs\\cnn-rnn\\base\\131L_weighted_1\\0\n",
      "..\\outputs\\cnn-rnn\\base\\131L_weighted_1\\1\n",
      "..\\outputs\\cnn-rnn\\base\\131L_weighted_1\\2\n",
      "..\\outputs\\cnn-rnn\\base\\131L_weighted_1\\3\n",
      "..\\outputs\\cnn-rnn\\crop1\\131L_weighted_1\\metadata.csv\n",
      "..\\outputs\\cnn-rnn\\crop1\\131L_weighted_1\\0\n",
      "..\\outputs\\cnn-rnn\\crop1\\131L_weighted_1\\1\n",
      "..\\outputs\\cnn-rnn\\crop1\\131L_weighted_1\\2\n",
      "..\\outputs\\cnn-rnn\\crop1\\131L_weighted_1\\3\n",
      "..\\outputs\\cnn-rnn\\blur_rain_ref_rot_crop1_randaug1_elastic1\\131L_weighted_1\\metadata.csv\n",
      "..\\outputs\\cnn-rnn\\blur_rain_ref_rot_crop1_randaug1_elastic1\\131L_weighted_1\\0\n",
      "..\\outputs\\cnn-rnn\\blur_rain_ref_rot_crop1_randaug1_elastic1\\131L_weighted_1\\1\n",
      "..\\outputs\\cnn-rnn\\blur_rain_ref_rot_crop1_randaug1_elastic1\\131L_weighted_1\\2\n",
      "..\\outputs\\cnn-rnn\\blur_rain_ref_rot_crop1_randaug1_elastic1\\131L_weighted_1\\3\n",
      "..\\outputs\\cnn-rnn\\base\\169L_weighted_1\\metadata.csv\n",
      "..\\outputs\\cnn-rnn\\base\\169L_weighted_1\\0\n",
      "..\\outputs\\cnn-rnn\\base\\169L_weighted_1\\1\n",
      "..\\outputs\\cnn-rnn\\base\\169L_weighted_1\\2\n",
      "..\\outputs\\cnn-rnn\\base\\169L_weighted_1\\3\n",
      "..\\outputs\\cnn-rnn\\crop1\\169L_weighted_1\\metadata.csv\n",
      "..\\outputs\\cnn-rnn\\crop1\\169L_weighted_1\\0\n",
      "..\\outputs\\cnn-rnn\\crop1\\169L_weighted_1\\1\n",
      "..\\outputs\\cnn-rnn\\crop1\\169L_weighted_1\\2\n",
      "..\\outputs\\cnn-rnn\\crop1\\169L_weighted_1\\3\n",
      "..\\outputs\\cnn-rnn\\blur_rain_ref_rot_crop1_randaug1_elastic1\\169L_weighted_1\\metadata.csv\n",
      "..\\outputs\\cnn-rnn\\blur_rain_ref_rot_crop1_randaug1_elastic1\\169L_weighted_1\\0\n",
      "..\\outputs\\cnn-rnn\\blur_rain_ref_rot_crop1_randaug1_elastic1\\169L_weighted_1\\1\n",
      "..\\outputs\\cnn-rnn\\blur_rain_ref_rot_crop1_randaug1_elastic1\\169L_weighted_1\\2\n",
      "..\\outputs\\cnn-rnn\\blur_rain_ref_rot_crop1_randaug1_elastic1\\169L_weighted_1\\3\n",
      "..\\outputs\\cnn-rnn\\base\\281L_weighted_1\\metadata.csv\n",
      "..\\outputs\\cnn-rnn\\base\\281L_weighted_1\\0\n",
      "..\\outputs\\cnn-rnn\\base\\281L_weighted_1\\1\n",
      "..\\outputs\\cnn-rnn\\base\\281L_weighted_1\\2\n",
      "..\\outputs\\cnn-rnn\\base\\281L_weighted_1\\3\n",
      "..\\outputs\\cnn-rnn\\crop1\\281L_weighted_1\\metadata.csv\n",
      "..\\outputs\\cnn-rnn\\crop1\\281L_weighted_1\\0\n",
      "..\\outputs\\cnn-rnn\\crop1\\281L_weighted_1\\1\n",
      "..\\outputs\\cnn-rnn\\crop1\\281L_weighted_1\\2\n",
      "..\\outputs\\cnn-rnn\\crop1\\281L_weighted_1\\3\n",
      "..\\outputs\\cnn-rnn\\blur_rain_ref_rot_crop1_randaug1_elastic1\\281L_weighted_1\\metadata.csv\n",
      "..\\outputs\\cnn-rnn\\blur_rain_ref_rot_crop1_randaug1_elastic1\\281L_weighted_1\\0\n",
      "..\\outputs\\cnn-rnn\\blur_rain_ref_rot_crop1_randaug1_elastic1\\281L_weighted_1\\1\n",
      "..\\outputs\\cnn-rnn\\blur_rain_ref_rot_crop1_randaug1_elastic1\\281L_weighted_1\\2\n",
      "..\\outputs\\cnn-rnn\\blur_rain_ref_rot_crop1_randaug1_elastic1\\281L_weighted_1\\3\n"
     ]
    }
   ],
   "source": [
    "scores = {}\n",
    "\n",
    "# Iterar sobre archivos de predicciones creando archivo de resultados\n",
    "for n in nlabels:\n",
    "    pruner = KunischPruner(n)\n",
    "    pruner.set_top_labels(dic_toplabels[n])\n",
    "    for exp in experimentos:\n",
    "        for apellido in apellidos:\n",
    "            path_metadata = os.path.join(output_dir, exp, f'{n}L{apellido}', 'metadata.csv')\n",
    "            print(\"Path metadata:{}\".format(path_metadata))\n",
    "            df = None\n",
    "            if os.path.isfile(path_metadata):\n",
    "                df = pd.read_csv(path_metadata, index_col = 0)\n",
    "            sum_f1 = 0\n",
    "            sum_f2 = 0\n",
    "            sum_recall = 0\n",
    "            sum_precision = 0\n",
    "            sum_acc = 0\n",
    "            sum_hl = 0\n",
    "            sum_emr = 0\n",
    "            sum_hs = 0\n",
    "            sum_mr1 = 0\n",
    "            sum_mr2 = 0\n",
    "            sum_mr3 = 0\n",
    "            sum_mr4 = 0\n",
    "            sum_mr5 = 0\n",
    "            for fold in range(0, K):\n",
    "                ytrue = pd.read_json(os.path.join(labels_dir, exp, str(fold), 'test_df.json'), orient='index')\n",
    "                ytrue = pruner.filter_df(ytrue).values\n",
    "                print('--' + os.path.join(output_dir, exp, f'{n}L{apellido}', str(fold)))\n",
    "                ypred = pd.read_csv(os.path.join(output_dir, exp, f'{n}L{apellido}', str(fold), 'predictions.csv'),\n",
    "                                   index_col = 0)\n",
    "                ypred = ypred.values\n",
    "                metrics = KunischMetrics(ytrue, ypred)\n",
    "                sum_f1 += metrics.f1()\n",
    "                sum_f2 += metrics.f2()\n",
    "                sum_recall += metrics.recall()\n",
    "                sum_precision += metrics.precision()\n",
    "                sum_acc += metrics.acc()\n",
    "                sum_hl += metrics.hl()\n",
    "                sum_emr += metrics.emr()\n",
    "                sum_hs += metrics.hs()\n",
    "                sum_mr1 += metrics.mr1()\n",
    "                sum_mr2 += metrics.mr2()\n",
    "                sum_mr3 += metrics.mr3()\n",
    "                sum_mr4 += metrics.mr4()\n",
    "                sum_mr5 += metrics.mr5()\n",
    "            \n",
    "            avg_f1 = round(sum_f1/K, 4)\n",
    "            avg_f2 = round(sum_f2/K, 4)\n",
    "            avg_recall = round(sum_recall/K, 4)\n",
    "            avg_precision = round(sum_precision/K, 4)\n",
    "            avg_acc = round(sum_acc/K, 4)\n",
    "            avg_hl = round(sum_hl/K, 4)\n",
    "            avg_emr = round(sum_emr/K, 4)\n",
    "            avg_hs = round(sum_hs/K, 4)\n",
    "            avg_mr1 = round(sum_mr1/K, 4)\n",
    "            avg_mr2 = round(sum_mr2/K, 4)\n",
    "            avg_mr3 = round(sum_mr3/K, 4)\n",
    "            avg_mr4 = round(sum_mr4/K, 4)\n",
    "            avg_mr5 = round(sum_mr5/K, 4)\n",
    "            \n",
    "            if df is not None:\n",
    "                df.loc['f1'] = [avg_f1]\n",
    "                df.loc['f2'] = [avg_f2]\n",
    "                df.loc['recall'] = [avg_recall]\n",
    "                df.loc['precision'] = [avg_precision]\n",
    "                df.loc['acc'] = [avg_acc]\n",
    "                df.loc['hl'] = [avg_hl]\n",
    "                df.loc['emr'] = [avg_emr]\n",
    "                df.loc['hs'] = [avg_hs]\n",
    "                df.loc['mr1'] = [avg_mr1]\n",
    "                df.loc['mr2'] = [avg_mr2]\n",
    "                df.loc['mr3'] = [avg_mr3]\n",
    "                df.loc['mr4'] = [avg_mr4]\n",
    "                df.loc['mr5'] = [avg_mr5]     \n",
    "                df.to_csv(path_metadata)\n",
    "            else:\n",
    "                metadata = {\n",
    "                'data_flags': exp,\n",
    "                'num_labels': n,\n",
    "                'f1': avg_f1,\n",
    "                'f2': avg_f2,\n",
    "                'recall': avg_recall,\n",
    "                'precision': avg_precision,\n",
    "                'acc': avg_acc,\n",
    "                'hl': avg_hl,\n",
    "                'emr': avg_emr,\n",
    "                'hs': avg_hs,\n",
    "                'mr1': avg_mr1,\n",
    "                'mr2': avg_mr2,\n",
    "                'mr3': avg_mr3,\n",
    "                'mr4': avg_mr4,\n",
    "                'mr5': avg_mr5\n",
    "                }\n",
    "                df = pd.DataFrame.from_dict(metadata, orient='index')\n",
    "                df.to_csv(path_metadata)\n",
    "\n"
   ]
  }
 ],
 "metadata": {
  "kernelspec": {
   "display_name": "Python 3 (ipykernel)",
   "language": "python",
   "name": "python3"
  },
  "language_info": {
   "codemirror_mode": {
    "name": "ipython",
    "version": 3
   },
   "file_extension": ".py",
   "mimetype": "text/x-python",
   "name": "python",
   "nbconvert_exporter": "python",
   "pygments_lexer": "ipython3",
   "version": "3.10.4"
  }
 },
 "nbformat": 4,
 "nbformat_minor": 5
}
