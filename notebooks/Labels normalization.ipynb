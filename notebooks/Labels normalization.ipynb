{
 "cells": [
  {
   "cell_type": "markdown",
   "metadata": {
    "id": "Yw52TvGCLUJt",
    "pycharm": {
     "name": "#%% md\n"
    }
   },
   "source": [
    "# Aprendizaje Multietiqueta de Patrones Geométricos en Objetos de Herencia Cultural\n",
    "# Labels normalization\n",
    "## Seminario de Tesis II, Primavera 2022\n",
    "### Master of Data Science. Universidad de Chile.\n",
    "#### Prof. guía: Benjamín Bustos - Prof. coguía: Iván Sipirán\n",
    "#### Autor: Matías Vergara\\\n",
    "El objetivo de este notebook es, dado un archivo con las etiquetas originales, generar un nuevo archivo correspondiente a la aplicación de lemmatization y stopword removal."
   ]
  },
  {
   "cell_type": "markdown",
   "metadata": {},
   "source": [
    "## Imports"
   ]
  },
  {
   "cell_type": "code",
   "execution_count": 10,
   "metadata": {
    "colab": {
     "base_uri": "https://localhost:8080/"
    },
    "executionInfo": {
     "elapsed": 2182,
     "status": "ok",
     "timestamp": 1650245377281,
     "user": {
      "displayName": "Matias Vergara",
      "userId": "14919682765180970131"
     },
     "user_tz": 240
    },
    "id": "TPmKxHg3QlWL",
    "outputId": "de09d137-435c-4167-b49f-345af64c9e50",
    "pycharm": {
     "name": "#%%\n"
    }
   },
   "outputs": [],
   "source": [
    "root_dir = '../'    "
   ]
  },
  {
   "cell_type": "code",
   "execution_count": 11,
   "metadata": {
    "colab": {
     "base_uri": "https://localhost:8080/"
    },
    "executionInfo": {
     "elapsed": 2339,
     "status": "ok",
     "timestamp": 1650245261677,
     "user": {
      "displayName": "Matias Vergara",
      "userId": "14919682765180970131"
     },
     "user_tz": 240
    },
    "id": "Kj6Ykx3VLh8o",
    "outputId": "5df95ec6-7073-43d5-8e58-fe6c601c5f2f",
    "pycharm": {
     "name": "#%%\n"
    }
   },
   "outputs": [
    {
     "name": "stderr",
     "output_type": "stream",
     "text": [
      "[nltk_data] Downloading package wordnet to\n",
      "[nltk_data]     C:\\Users\\m_jvs\\AppData\\Roaming\\nltk_data...\n",
      "[nltk_data]   Package wordnet is already up-to-date!\n",
      "[nltk_data] Downloading package omw-1.4 to\n",
      "[nltk_data]     C:\\Users\\m_jvs\\AppData\\Roaming\\nltk_data...\n",
      "[nltk_data]   Package omw-1.4 is already up-to-date!\n"
     ]
    },
    {
     "data": {
      "text/plain": [
       "True"
      ]
     },
     "execution_count": 11,
     "metadata": {},
     "output_type": "execute_result"
    }
   ],
   "source": [
    "import json\n",
    "import csv\n",
    "import pandas as pd\n",
    "import numpy as np\n",
    "from scipy import sparse\n",
    "import nltk\n",
    "from nltk.stem import WordNetLemmatizer\n",
    "import os\n",
    "nltk.download('wordnet')\n",
    "nltk.download('omw-1.4')"
   ]
  },
  {
   "cell_type": "markdown",
   "metadata": {},
   "source": [
    "## Configuración de datos"
   ]
  },
  {
   "cell_type": "code",
   "execution_count": 12,
   "metadata": {
    "id": "Wxxec0VQLTfr",
    "pycharm": {
     "name": "#%%\n"
    }
   },
   "outputs": [],
   "source": [
    "labels_df = pd.read_json(os.path.join(root_dir, \"labels\", \"original_df.json\"), orient='index')\n",
    "patterns = labels_df.index\n",
    "labels = list(labels_df.columns)"
   ]
  },
  {
   "cell_type": "markdown",
   "metadata": {},
   "source": [
    "## Normalización"
   ]
  },
  {
   "cell_type": "code",
   "execution_count": 13,
   "metadata": {
    "id": "pOS8K7tPA_-Q",
    "pycharm": {
     "name": "#%%\n"
    }
   },
   "outputs": [],
   "source": [
    "# Build a dict of {pattern: [related, labels]}\n",
    "\n",
    "patterns_dict = {}\n",
    "cols = labels_df.columns.values\n",
    "mask = labels_df.gt(0.0).values\n",
    "out = [cols[x].tolist() for x in mask]\n",
    "assert(len(out) == len(patterns))\n",
    "for i in range(0, len(out)):\n",
    "  patterns_dict[patterns[i]] = out[i]"
   ]
  },
  {
   "cell_type": "code",
   "execution_count": 14,
   "metadata": {
    "id": "DBC1ADxKXL2o",
    "pycharm": {
     "name": "#%%\n"
    }
   },
   "outputs": [],
   "source": [
    "# Get a clean version of each label \n",
    "\n",
    "labels = []\n",
    "for label in list(labels_df.columns): \n",
    "  label = label.replace('/', ' ')  # case of labels like \"latticed/dotted/stripped\"\n",
    "  label = label.strip().lower() # remove leading and trailing whitespaces and lowerize \n",
    "  label = label.replace('\"', \"\") # remove quotes\n",
    "  label = ''.join([i for i in label if not i.isdigit()]) # remove numbers\n",
    "  label = label.replace('(', \"\") # remove parenthesis\n",
    "  label = label.replace(')', \"\")\n",
    "  labels.append(label)"
   ]
  },
  {
   "cell_type": "code",
   "execution_count": 15,
   "metadata": {
    "id": "gzk2X7vY35td",
    "pycharm": {
     "name": "#%%\n"
    }
   },
   "outputs": [],
   "source": [
    "# Build a dict of {original label: clean label}\n",
    "\n",
    "labels_dict = {}\n",
    "assert(len(labels) == len(labels_df.columns))\n",
    "for i in range(0, len(labels)):\n",
    "  labels_dict[labels_df.columns[i]] = labels[i]"
   ]
  },
  {
   "cell_type": "code",
   "execution_count": 16,
   "metadata": {
    "id": "oFFVWuuwXLGV",
    "pycharm": {
     "name": "#%%\n"
    }
   },
   "outputs": [],
   "source": [
    "# Remove stop words\n",
    "from gensim.parsing.preprocessing import remove_stopwords\n",
    "\n",
    "lemmatizer = WordNetLemmatizer()\n",
    "\n",
    "for i in range(0, len(labels)):\n",
    "  label = labels[i]\n",
    "  original_label = labels_df.columns[i]\n",
    "  filtereds = []\n",
    "  filtered = remove_stopwords(label)\n",
    "  filtereds.append(filtered)\n",
    "  if filtered!=label: \n",
    "    #print(\"Label:    {}\\nFiltered: {}\\n\".format(label, filtered))\n",
    "    if len(filtered) > 0:\n",
    "      splitted = filtered.split()\n",
    "      filtereds = splitted\n",
    "  else:\n",
    "    if label.find(\" \") >= 0:\n",
    "      filtereds = label.split()\n",
    "    elif len(label) > 0:\n",
    "      filtereds = [label]\n",
    "  lemmatized = []\n",
    "  for f in filtereds:\n",
    "    lemma = lemmatizer.lemmatize(f)\n",
    "    if f!=lemma:\n",
    "      #print(\"Label:{}\\nLemma:{}\\n\".format(f, lemma))\n",
    "      lemmatized.append(lemma)\n",
    "    else:\n",
    "      lemmatized.append(f)\n",
    "  labels_dict[original_label] = lemmatized"
   ]
  },
  {
   "cell_type": "code",
   "execution_count": 17,
   "metadata": {
    "id": "Rnsk05PTF-JI",
    "pycharm": {
     "name": "#%%\n"
    }
   },
   "outputs": [],
   "source": [
    "for k, v in patterns_dict.items():\n",
    "  new_v = []\n",
    "  for old_label in v:\n",
    "    new_v += labels_dict[old_label]\n",
    "  patterns_dict[k] = new_v"
   ]
  },
  {
   "cell_type": "code",
   "execution_count": 18,
   "metadata": {
    "colab": {
     "base_uri": "https://localhost:8080/"
    },
    "executionInfo": {
     "elapsed": 15,
     "status": "ok",
     "timestamp": 1649195777305,
     "user": {
      "displayName": "Matias Vergara",
      "userId": "14919682765180970131"
     },
     "user_tz": 240
    },
    "id": "Ee1_iImueouq",
    "outputId": "b1f4b0e6-dea9-48e8-f3fc-894a0e9e5df2",
    "pycharm": {
     "name": "#%%\n"
    }
   },
   "outputs": [
    {
     "name": "stdout",
     "output_type": "stream",
     "text": [
      "Cantidad de etiquetas resultantes: 339\n"
     ]
    }
   ],
   "source": [
    "new_labels = []\n",
    "for labels in patterns_dict.values():\n",
    "  for label in labels:\n",
    "    if label not in new_labels:\n",
    "      new_labels.append(label)\n",
    "print(\"Cantidad de etiquetas resultantes: {}\".format(len(new_labels)))"
   ]
  },
  {
   "cell_type": "code",
   "execution_count": 19,
   "metadata": {
    "colab": {
     "base_uri": "https://localhost:8080/",
     "height": 505
    },
    "executionInfo": {
     "elapsed": 246,
     "status": "ok",
     "timestamp": 1649195781499,
     "user": {
      "displayName": "Matias Vergara",
      "userId": "14919682765180970131"
     },
     "user_tz": 240
    },
    "id": "az-HuGikOJbR",
    "outputId": "d92f8612-12f8-4183-f62d-5669ae37e201",
    "pycharm": {
     "name": "#%%\n"
    }
   },
   "outputs": [
    {
     "data": {
      "text/html": [
       "<div>\n",
       "<style scoped>\n",
       "    .dataframe tbody tr th:only-of-type {\n",
       "        vertical-align: middle;\n",
       "    }\n",
       "\n",
       "    .dataframe tbody tr th {\n",
       "        vertical-align: top;\n",
       "    }\n",
       "\n",
       "    .dataframe thead th {\n",
       "        text-align: right;\n",
       "    }\n",
       "</style>\n",
       "<table border=\"1\" class=\"dataframe\">\n",
       "  <thead>\n",
       "    <tr style=\"text-align: right;\">\n",
       "      <th></th>\n",
       "      <th>pendent</th>\n",
       "      <th>teardrop</th>\n",
       "      <th>horizontal</th>\n",
       "      <th>panel</th>\n",
       "      <th>group</th>\n",
       "      <th>vertical</th>\n",
       "      <th>bar</th>\n",
       "      <th>floating</th>\n",
       "      <th>enclosing</th>\n",
       "      <th>shorter</th>\n",
       "      <th>...</th>\n",
       "      <th>light</th>\n",
       "      <th>body</th>\n",
       "      <th>bird</th>\n",
       "      <th>striped</th>\n",
       "      <th>worm</th>\n",
       "      <th>angular</th>\n",
       "      <th>raised</th>\n",
       "      <th>head</th>\n",
       "      <th>bird-seed</th>\n",
       "      <th>long</th>\n",
       "    </tr>\n",
       "  </thead>\n",
       "  <tbody>\n",
       "    <tr>\n",
       "      <th>1a</th>\n",
       "      <td>0</td>\n",
       "      <td>0</td>\n",
       "      <td>0</td>\n",
       "      <td>0</td>\n",
       "      <td>0</td>\n",
       "      <td>0</td>\n",
       "      <td>0</td>\n",
       "      <td>0</td>\n",
       "      <td>0</td>\n",
       "      <td>0</td>\n",
       "      <td>...</td>\n",
       "      <td>0</td>\n",
       "      <td>0</td>\n",
       "      <td>0</td>\n",
       "      <td>0</td>\n",
       "      <td>0</td>\n",
       "      <td>0</td>\n",
       "      <td>0</td>\n",
       "      <td>0</td>\n",
       "      <td>0</td>\n",
       "      <td>0</td>\n",
       "    </tr>\n",
       "    <tr>\n",
       "      <th>1b</th>\n",
       "      <td>0</td>\n",
       "      <td>0</td>\n",
       "      <td>0</td>\n",
       "      <td>0</td>\n",
       "      <td>0</td>\n",
       "      <td>0</td>\n",
       "      <td>0</td>\n",
       "      <td>0</td>\n",
       "      <td>0</td>\n",
       "      <td>0</td>\n",
       "      <td>...</td>\n",
       "      <td>0</td>\n",
       "      <td>0</td>\n",
       "      <td>0</td>\n",
       "      <td>0</td>\n",
       "      <td>0</td>\n",
       "      <td>0</td>\n",
       "      <td>0</td>\n",
       "      <td>0</td>\n",
       "      <td>0</td>\n",
       "      <td>0</td>\n",
       "    </tr>\n",
       "    <tr>\n",
       "      <th>1c</th>\n",
       "      <td>0</td>\n",
       "      <td>0</td>\n",
       "      <td>0</td>\n",
       "      <td>0</td>\n",
       "      <td>0</td>\n",
       "      <td>0</td>\n",
       "      <td>0</td>\n",
       "      <td>0</td>\n",
       "      <td>0</td>\n",
       "      <td>0</td>\n",
       "      <td>...</td>\n",
       "      <td>0</td>\n",
       "      <td>0</td>\n",
       "      <td>0</td>\n",
       "      <td>0</td>\n",
       "      <td>0</td>\n",
       "      <td>0</td>\n",
       "      <td>0</td>\n",
       "      <td>0</td>\n",
       "      <td>0</td>\n",
       "      <td>0</td>\n",
       "    </tr>\n",
       "    <tr>\n",
       "      <th>1d</th>\n",
       "      <td>0</td>\n",
       "      <td>0</td>\n",
       "      <td>0</td>\n",
       "      <td>0</td>\n",
       "      <td>0</td>\n",
       "      <td>0</td>\n",
       "      <td>0</td>\n",
       "      <td>0</td>\n",
       "      <td>0</td>\n",
       "      <td>0</td>\n",
       "      <td>...</td>\n",
       "      <td>0</td>\n",
       "      <td>0</td>\n",
       "      <td>0</td>\n",
       "      <td>0</td>\n",
       "      <td>0</td>\n",
       "      <td>0</td>\n",
       "      <td>0</td>\n",
       "      <td>0</td>\n",
       "      <td>0</td>\n",
       "      <td>0</td>\n",
       "    </tr>\n",
       "    <tr>\n",
       "      <th>1e</th>\n",
       "      <td>0</td>\n",
       "      <td>0</td>\n",
       "      <td>0</td>\n",
       "      <td>0</td>\n",
       "      <td>0</td>\n",
       "      <td>0</td>\n",
       "      <td>0</td>\n",
       "      <td>0</td>\n",
       "      <td>0</td>\n",
       "      <td>0</td>\n",
       "      <td>...</td>\n",
       "      <td>0</td>\n",
       "      <td>0</td>\n",
       "      <td>0</td>\n",
       "      <td>0</td>\n",
       "      <td>0</td>\n",
       "      <td>0</td>\n",
       "      <td>0</td>\n",
       "      <td>0</td>\n",
       "      <td>0</td>\n",
       "      <td>0</td>\n",
       "    </tr>\n",
       "    <tr>\n",
       "      <th>...</th>\n",
       "      <td>...</td>\n",
       "      <td>...</td>\n",
       "      <td>...</td>\n",
       "      <td>...</td>\n",
       "      <td>...</td>\n",
       "      <td>...</td>\n",
       "      <td>...</td>\n",
       "      <td>...</td>\n",
       "      <td>...</td>\n",
       "      <td>...</td>\n",
       "      <td>...</td>\n",
       "      <td>...</td>\n",
       "      <td>...</td>\n",
       "      <td>...</td>\n",
       "      <td>...</td>\n",
       "      <td>...</td>\n",
       "      <td>...</td>\n",
       "      <td>...</td>\n",
       "      <td>...</td>\n",
       "      <td>...</td>\n",
       "      <td>...</td>\n",
       "    </tr>\n",
       "    <tr>\n",
       "      <th>96e</th>\n",
       "      <td>0</td>\n",
       "      <td>0</td>\n",
       "      <td>0</td>\n",
       "      <td>0</td>\n",
       "      <td>0</td>\n",
       "      <td>0</td>\n",
       "      <td>0</td>\n",
       "      <td>0</td>\n",
       "      <td>0</td>\n",
       "      <td>0</td>\n",
       "      <td>...</td>\n",
       "      <td>0</td>\n",
       "      <td>0</td>\n",
       "      <td>0</td>\n",
       "      <td>0</td>\n",
       "      <td>0</td>\n",
       "      <td>0</td>\n",
       "      <td>0</td>\n",
       "      <td>0</td>\n",
       "      <td>0</td>\n",
       "      <td>0</td>\n",
       "    </tr>\n",
       "    <tr>\n",
       "      <th>96f</th>\n",
       "      <td>0</td>\n",
       "      <td>0</td>\n",
       "      <td>0</td>\n",
       "      <td>0</td>\n",
       "      <td>0</td>\n",
       "      <td>0</td>\n",
       "      <td>0</td>\n",
       "      <td>0</td>\n",
       "      <td>0</td>\n",
       "      <td>0</td>\n",
       "      <td>...</td>\n",
       "      <td>0</td>\n",
       "      <td>0</td>\n",
       "      <td>0</td>\n",
       "      <td>0</td>\n",
       "      <td>0</td>\n",
       "      <td>0</td>\n",
       "      <td>0</td>\n",
       "      <td>0</td>\n",
       "      <td>0</td>\n",
       "      <td>0</td>\n",
       "    </tr>\n",
       "    <tr>\n",
       "      <th>96g</th>\n",
       "      <td>0</td>\n",
       "      <td>0</td>\n",
       "      <td>0</td>\n",
       "      <td>0</td>\n",
       "      <td>0</td>\n",
       "      <td>0</td>\n",
       "      <td>0</td>\n",
       "      <td>0</td>\n",
       "      <td>0</td>\n",
       "      <td>0</td>\n",
       "      <td>...</td>\n",
       "      <td>0</td>\n",
       "      <td>0</td>\n",
       "      <td>0</td>\n",
       "      <td>0</td>\n",
       "      <td>0</td>\n",
       "      <td>0</td>\n",
       "      <td>0</td>\n",
       "      <td>0</td>\n",
       "      <td>0</td>\n",
       "      <td>0</td>\n",
       "    </tr>\n",
       "    <tr>\n",
       "      <th>96h</th>\n",
       "      <td>0</td>\n",
       "      <td>0</td>\n",
       "      <td>0</td>\n",
       "      <td>0</td>\n",
       "      <td>0</td>\n",
       "      <td>0</td>\n",
       "      <td>0</td>\n",
       "      <td>0</td>\n",
       "      <td>0</td>\n",
       "      <td>0</td>\n",
       "      <td>...</td>\n",
       "      <td>0</td>\n",
       "      <td>0</td>\n",
       "      <td>0</td>\n",
       "      <td>0</td>\n",
       "      <td>0</td>\n",
       "      <td>0</td>\n",
       "      <td>0</td>\n",
       "      <td>0</td>\n",
       "      <td>0</td>\n",
       "      <td>0</td>\n",
       "    </tr>\n",
       "    <tr>\n",
       "      <th>96i</th>\n",
       "      <td>0</td>\n",
       "      <td>0</td>\n",
       "      <td>0</td>\n",
       "      <td>0</td>\n",
       "      <td>0</td>\n",
       "      <td>0</td>\n",
       "      <td>0</td>\n",
       "      <td>0</td>\n",
       "      <td>0</td>\n",
       "      <td>0</td>\n",
       "      <td>...</td>\n",
       "      <td>0</td>\n",
       "      <td>0</td>\n",
       "      <td>0</td>\n",
       "      <td>0</td>\n",
       "      <td>0</td>\n",
       "      <td>0</td>\n",
       "      <td>0</td>\n",
       "      <td>0</td>\n",
       "      <td>0</td>\n",
       "      <td>0</td>\n",
       "    </tr>\n",
       "  </tbody>\n",
       "</table>\n",
       "<p>776 rows × 339 columns</p>\n",
       "</div>"
      ],
      "text/plain": [
       "     pendent  teardrop  horizontal  panel  group  vertical  bar  floating  \\\n",
       "1a         0         0           0      0      0         0    0         0   \n",
       "1b         0         0           0      0      0         0    0         0   \n",
       "1c         0         0           0      0      0         0    0         0   \n",
       "1d         0         0           0      0      0         0    0         0   \n",
       "1e         0         0           0      0      0         0    0         0   \n",
       "..       ...       ...         ...    ...    ...       ...  ...       ...   \n",
       "96e        0         0           0      0      0         0    0         0   \n",
       "96f        0         0           0      0      0         0    0         0   \n",
       "96g        0         0           0      0      0         0    0         0   \n",
       "96h        0         0           0      0      0         0    0         0   \n",
       "96i        0         0           0      0      0         0    0         0   \n",
       "\n",
       "     enclosing  shorter  ...  light  body  bird  striped  worm  angular  \\\n",
       "1a           0        0  ...      0     0     0        0     0        0   \n",
       "1b           0        0  ...      0     0     0        0     0        0   \n",
       "1c           0        0  ...      0     0     0        0     0        0   \n",
       "1d           0        0  ...      0     0     0        0     0        0   \n",
       "1e           0        0  ...      0     0     0        0     0        0   \n",
       "..         ...      ...  ...    ...   ...   ...      ...   ...      ...   \n",
       "96e          0        0  ...      0     0     0        0     0        0   \n",
       "96f          0        0  ...      0     0     0        0     0        0   \n",
       "96g          0        0  ...      0     0     0        0     0        0   \n",
       "96h          0        0  ...      0     0     0        0     0        0   \n",
       "96i          0        0  ...      0     0     0        0     0        0   \n",
       "\n",
       "     raised  head  bird-seed  long  \n",
       "1a        0     0          0     0  \n",
       "1b        0     0          0     0  \n",
       "1c        0     0          0     0  \n",
       "1d        0     0          0     0  \n",
       "1e        0     0          0     0  \n",
       "..      ...   ...        ...   ...  \n",
       "96e       0     0          0     0  \n",
       "96f       0     0          0     0  \n",
       "96g       0     0          0     0  \n",
       "96h       0     0          0     0  \n",
       "96i       0     0          0     0  \n",
       "\n",
       "[776 rows x 339 columns]"
      ]
     },
     "metadata": {},
     "output_type": "display_data"
    }
   ],
   "source": [
    "# Create an empty df with the appropiate index and col names (new labels)\n",
    "pre_df = {}\n",
    "for pattern in patterns_dict.keys():\n",
    "  pre_df[pattern] = [0] * len(new_labels)\n",
    "\n",
    "new_df = pd.DataFrame.from_dict(pre_df).T\n",
    "new_df.columns = new_labels\n",
    "display(new_df)"
   ]
  },
  {
   "cell_type": "markdown",
   "metadata": {},
   "source": [
    "## Limpieza manual de casos puntuales"
   ]
  },
  {
   "cell_type": "code",
   "execution_count": 21,
   "metadata": {
    "colab": {
     "base_uri": "https://localhost:8080/",
     "height": 505
    },
    "executionInfo": {
     "elapsed": 314,
     "status": "ok",
     "timestamp": 1649195786177,
     "user": {
      "displayName": "Matias Vergara",
      "userId": "14919682765180970131"
     },
     "user_tz": 240
    },
    "id": "3pjdpobdMng8",
    "outputId": "4ca55853-0d7a-4734-cfe3-a02fa110fdb9",
    "pycharm": {
     "name": "#%%\n"
    },
    "scrolled": false
   },
   "outputs": [],
   "source": [
    "# Fill new df with 1's where appropiate\n",
    "for k, v in patterns_dict.items():\n",
    "  for label in v:\n",
    "    new_df.at[k, label] =1 \n",
    "\n",
    "bad_remaining_labels = ['', 'st.', 'fig.', 'b', 'b:', \"v's\", 'm', \"s's\", 's']\n",
    "\n",
    "# problemas detectados:\n",
    "# label vacio\n",
    "# st.\n",
    "# fig.\n",
    "# b (letras solas)\n",
    "# b:\n",
    "# v's\n",
    "# m\n",
    "# s's\n",
    "# s\n",
    "\n",
    "new_df = new_df.drop(columns = bad_remaining_labels)"
   ]
  },
  {
   "cell_type": "markdown",
   "metadata": {},
   "source": [
    "## Guardado "
   ]
  },
  {
   "cell_type": "code",
   "execution_count": 59,
   "metadata": {
    "id": "rKbzd-jScUuL",
    "pycharm": {
     "name": "#%%\n"
    }
   },
   "outputs": [],
   "source": [
    "# save normalized labels\n",
    "new_df.to_json(os.path.join(root_dir, \"labels\", \"normalized_df.json\"), orient='index')"
   ]
  }
 ],
 "metadata": {
  "colab": {
   "authorship_tag": "ABX9TyODgbK6P8DbOTJiMQuozGbO",
   "collapsed_sections": [],
   "name": "Labels normalization.ipynb",
   "provenance": []
  },
  "kernelspec": {
   "display_name": "Python 3 (ipykernel)",
   "language": "python",
   "name": "python3"
  },
  "language_info": {
   "codemirror_mode": {
    "name": "ipython",
    "version": 3
   },
   "file_extension": ".py",
   "mimetype": "text/x-python",
   "name": "python",
   "nbconvert_exporter": "python",
   "pygments_lexer": "ipython3",
   "version": "3.10.4"
  }
 },
 "nbformat": 4,
 "nbformat_minor": 1
}
